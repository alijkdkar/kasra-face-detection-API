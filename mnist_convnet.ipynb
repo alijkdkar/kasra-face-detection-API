{
  "nbformat": 4,
  "nbformat_minor": 2,
  "metadata": {
    "colab": {
      "name": "mnist_convnet",
      "provenance": [],
      "collapsed_sections": [],
      "toc_visible": true
    },
    "kernelspec": {
      "name": "python3",
      "display_name": "Python 3.8.5 64-bit"
    },
    "language_info": {
      "codemirror_mode": {
        "name": "ipython",
        "version": 3
      },
      "file_extension": ".py",
      "mimetype": "text/x-python",
      "name": "python",
      "nbconvert_exporter": "python",
      "pygments_lexer": "ipython3",
      "version": "3.8.5"
    },
    "interpreter": {
      "hash": "bf09f0c584219b3ed7dd263cfc8a764ac11fc86d2ed2c18c38c8d757d32d89e8"
    }
  },
  "cells": [
    {
      "cell_type": "markdown",
      "source": [
        "# Simple MNIST convnet\n",
        "\n",
        "**Author:** [fchollet](https://twitter.com/fchollet)<br>\n",
        "**Date created:** 2015/06/19<br>\n",
        "**Last modified:** 2020/04/21<br>\n",
        "**Description:** A simple convnet that achieves ~99% test accuracy on MNIST."
      ],
      "metadata": {
        "id": "aOp9tzxx4GnZ"
      }
    },
    {
      "cell_type": "markdown",
      "source": [
        "## Setup"
      ],
      "metadata": {
        "id": "eAW4alwW4Gne"
      }
    },
    {
      "cell_type": "code",
      "execution_count": 1,
      "source": [
        "\r\n",
        "import numpy as np\r\n",
        "from tensorflow import keras\r\n",
        "from tensorflow.keras import layers\r\n",
        "import matplotlib.pyplot as plt\r\n",
        "import matplotlib.image as mpimg\r\n",
        "from keras.models import load_model\r\n"
      ],
      "outputs": [],
      "metadata": {
        "id": "ACf1jpLn4Gng"
      }
    },
    {
      "cell_type": "markdown",
      "source": [
        "## Prepare the data"
      ],
      "metadata": {
        "id": "rmh0Cj9B4Gnj"
      }
    },
    {
      "cell_type": "code",
      "execution_count": 2,
      "source": [
        "# Model / data parameters\r\n",
        "num_classes = 10\r\n",
        "input_shape = (28, 28, 1)\r\n",
        "\r\n",
        "# the data, split between train and test sets\r\n",
        "(x_train, y_train), (x_test, y_test) = keras.datasets.mnist.load_data()\r\n",
        "\r\n",
        "# Scale images to the [0, 1] range\r\n",
        "x_train = x_train.astype(\"float32\") / 255\r\n",
        "x_test = x_test.astype(\"float32\") / 255\r\n",
        "# Make sure images have shape (28, 28, 1)\r\n",
        "x_train = np.expand_dims(x_train, -1)\r\n",
        "x_test = np.expand_dims(x_test, -1)\r\n",
        "print(\"x_train shape:\", x_train.shape)\r\n",
        "print(x_train.shape[0], \"train samples\")\r\n",
        "print(x_test.shape[0], \"test samples\")\r\n",
        "\r\n",
        "\r\n",
        "# convert class vectors to binary class matrices\r\n",
        "y_train = keras.utils.to_categorical(y_train, num_classes)\r\n",
        "y_test = keras.utils.to_categorical(y_test, num_classes)"
      ],
      "outputs": [
        {
          "output_type": "stream",
          "name": "stdout",
          "text": [
            "x_train shape: (60000, 28, 28, 1)\n",
            "60000 train samples\n",
            "10000 test samples\n"
          ]
        }
      ],
      "metadata": {
        "id": "MGZl6muw4Gnl"
      }
    },
    {
      "cell_type": "markdown",
      "source": [
        "## Build the model"
      ],
      "metadata": {
        "id": "h3w8yKtH4Gnm"
      }
    },
    {
      "cell_type": "code",
      "execution_count": 3,
      "source": [
        "model = keras.Sequential(\r\n",
        "    [\r\n",
        "        keras.Input(shape=input_shape),\r\n",
        "        layers.Conv2D(32, kernel_size=(3, 3), activation=\"relu\"),\r\n",
        "        layers.MaxPooling2D(pool_size=(2, 2)),\r\n",
        "        layers.Conv2D(64, kernel_size=(3, 3), activation=\"relu\"),\r\n",
        "        layers.MaxPooling2D(pool_size=(2, 2)),\r\n",
        "        layers.Flatten(),\r\n",
        "        layers.Dropout(0.5),\r\n",
        "        layers.Dense(num_classes, activation=\"softmax\"),\r\n",
        "    ]\r\n",
        ")\r\n",
        "\r\n",
        "model.summary()"
      ],
      "outputs": [
        {
          "output_type": "stream",
          "name": "stdout",
          "text": [
            "Model: \"sequential\"\n",
            "_________________________________________________________________\n",
            "Layer (type)                 Output Shape              Param #   \n",
            "=================================================================\n",
            "conv2d (Conv2D)              (None, 26, 26, 32)        320       \n",
            "_________________________________________________________________\n",
            "max_pooling2d (MaxPooling2D) (None, 13, 13, 32)        0         \n",
            "_________________________________________________________________\n",
            "conv2d_1 (Conv2D)            (None, 11, 11, 64)        18496     \n",
            "_________________________________________________________________\n",
            "max_pooling2d_1 (MaxPooling2 (None, 5, 5, 64)          0         \n",
            "_________________________________________________________________\n",
            "flatten (Flatten)            (None, 1600)              0         \n",
            "_________________________________________________________________\n",
            "dropout (Dropout)            (None, 1600)              0         \n",
            "_________________________________________________________________\n",
            "dense (Dense)                (None, 10)                16010     \n",
            "=================================================================\n",
            "Total params: 34,826\n",
            "Trainable params: 34,826\n",
            "Non-trainable params: 0\n",
            "_________________________________________________________________\n"
          ]
        }
      ],
      "metadata": {
        "id": "BjXfVVqO4Gnn"
      }
    },
    {
      "cell_type": "markdown",
      "source": [
        "## Train the model"
      ],
      "metadata": {
        "id": "eneIl4KZ4Gnr"
      }
    },
    {
      "cell_type": "code",
      "execution_count": 4,
      "source": [
        "batch_size = 128\r\n",
        "epochs = 15\r\n",
        "\r\n",
        "model.compile(loss=\"categorical_crossentropy\", optimizer=\"adam\", metrics=[\"accuracy\"])\r\n",
        "\r\n",
        "model.fit(x_train, y_train, batch_size=batch_size, epochs=epochs, validation_split=0.1)"
      ],
      "outputs": [
        {
          "output_type": "stream",
          "name": "stdout",
          "text": [
            "Epoch 1/15\n",
            "422/422 [==============================] - 31s 71ms/step - loss: 0.3737 - accuracy: 0.8888 - val_loss: 0.0811 - val_accuracy: 0.9773\n",
            "Epoch 2/15\n",
            "422/422 [==============================] - 31s 73ms/step - loss: 0.1120 - accuracy: 0.9655 - val_loss: 0.0566 - val_accuracy: 0.9848\n",
            "Epoch 3/15\n",
            "422/422 [==============================] - 31s 74ms/step - loss: 0.0839 - accuracy: 0.9748 - val_loss: 0.0462 - val_accuracy: 0.9870\n",
            "Epoch 4/15\n",
            "422/422 [==============================] - 29s 69ms/step - loss: 0.0691 - accuracy: 0.9791 - val_loss: 0.0435 - val_accuracy: 0.9873\n",
            "Epoch 5/15\n",
            "422/422 [==============================] - 28s 65ms/step - loss: 0.0604 - accuracy: 0.9813 - val_loss: 0.0394 - val_accuracy: 0.9890\n",
            "Epoch 6/15\n",
            "422/422 [==============================] - 28s 67ms/step - loss: 0.0566 - accuracy: 0.9823 - val_loss: 0.0353 - val_accuracy: 0.9893\n",
            "Epoch 7/15\n",
            "422/422 [==============================] - 28s 66ms/step - loss: 0.0493 - accuracy: 0.9838 - val_loss: 0.0348 - val_accuracy: 0.9895\n",
            "Epoch 8/15\n",
            "422/422 [==============================] - 28s 67ms/step - loss: 0.0479 - accuracy: 0.9846 - val_loss: 0.0309 - val_accuracy: 0.9917\n",
            "Epoch 9/15\n",
            "422/422 [==============================] - 29s 68ms/step - loss: 0.0439 - accuracy: 0.9860 - val_loss: 0.0311 - val_accuracy: 0.9920\n",
            "Epoch 10/15\n",
            "422/422 [==============================] - 28s 66ms/step - loss: 0.0413 - accuracy: 0.9867 - val_loss: 0.0301 - val_accuracy: 0.9917\n",
            "Epoch 11/15\n",
            "422/422 [==============================] - 29s 68ms/step - loss: 0.0389 - accuracy: 0.9876 - val_loss: 0.0309 - val_accuracy: 0.9905\n",
            "Epoch 12/15\n",
            "422/422 [==============================] - 28s 67ms/step - loss: 0.0367 - accuracy: 0.9885 - val_loss: 0.0317 - val_accuracy: 0.9915\n",
            "Epoch 13/15\n",
            "422/422 [==============================] - 28s 67ms/step - loss: 0.0356 - accuracy: 0.9885 - val_loss: 0.0300 - val_accuracy: 0.9908\n",
            "Epoch 14/15\n",
            "422/422 [==============================] - 29s 69ms/step - loss: 0.0335 - accuracy: 0.9895 - val_loss: 0.0280 - val_accuracy: 0.9935\n",
            "Epoch 15/15\n",
            "422/422 [==============================] - 29s 69ms/step - loss: 0.0328 - accuracy: 0.9894 - val_loss: 0.0291 - val_accuracy: 0.9923\n"
          ]
        },
        {
          "output_type": "execute_result",
          "data": {
            "text/plain": [
              "<keras.callbacks.History at 0x1bf6265c2b0>"
            ]
          },
          "metadata": {},
          "execution_count": 4
        }
      ],
      "metadata": {
        "id": "RVlSDfsh4Gnt"
      }
    },
    {
      "cell_type": "markdown",
      "source": [
        "## Evaluate the trained model"
      ],
      "metadata": {
        "id": "Yd2Y0FjL4Gnw"
      }
    },
    {
      "cell_type": "code",
      "execution_count": 4,
      "source": [
        "print(x_test.shape)\r\n",
        "onImage = x_test[2:3]\r\n",
        "print(onImage.shape)\r\n",
        "target = model.predict(onImage)\r\n",
        "\r\n",
        "showimg = onImage.reshape(28,28)\r\n",
        "\r\n",
        "imgplot = plt.imshow(showimg)\r\n",
        "plt.show()\r\n",
        "\r\n",
        "print(target[0])"
      ],
      "outputs": [
        {
          "output_type": "stream",
          "name": "stdout",
          "text": [
            "(10000, 28, 28, 1)\n",
            "(1, 28, 28, 1)\n"
          ]
        },
        {
          "output_type": "display_data",
          "data": {
            "text/plain": [
              "<Figure size 432x288 with 1 Axes>"
            ],
            "image/svg+xml": "<?xml version=\"1.0\" encoding=\"utf-8\" standalone=\"no\"?>\r\n<!DOCTYPE svg PUBLIC \"-//W3C//DTD SVG 1.1//EN\"\r\n  \"http://www.w3.org/Graphics/SVG/1.1/DTD/svg11.dtd\">\r\n<!-- Created with matplotlib (https://matplotlib.org/) -->\r\n<svg height=\"248.518125pt\" version=\"1.1\" viewBox=\"0 0 251.565 248.518125\" width=\"251.565pt\" xmlns=\"http://www.w3.org/2000/svg\" xmlns:xlink=\"http://www.w3.org/1999/xlink\">\r\n <metadata>\r\n  <rdf:RDF xmlns:cc=\"http://creativecommons.org/ns#\" xmlns:dc=\"http://purl.org/dc/elements/1.1/\" xmlns:rdf=\"http://www.w3.org/1999/02/22-rdf-syntax-ns#\">\r\n   <cc:Work>\r\n    <dc:type rdf:resource=\"http://purl.org/dc/dcmitype/StillImage\"/>\r\n    <dc:date>2021-08-20T00:57:03.245584</dc:date>\r\n    <dc:format>image/svg+xml</dc:format>\r\n    <dc:creator>\r\n     <cc:Agent>\r\n      <dc:title>Matplotlib v3.3.1, https://matplotlib.org/</dc:title>\r\n     </cc:Agent>\r\n    </dc:creator>\r\n   </cc:Work>\r\n  </rdf:RDF>\r\n </metadata>\r\n <defs>\r\n  <style type=\"text/css\">*{stroke-linecap:butt;stroke-linejoin:round;}</style>\r\n </defs>\r\n <g id=\"figure_1\">\r\n  <g id=\"patch_1\">\r\n   <path d=\"M 0 248.518125 \r\nL 251.565 248.518125 \r\nL 251.565 0 \r\nL 0 0 \r\nz\r\n\" style=\"fill:none;\"/>\r\n  </g>\r\n  <g id=\"axes_1\">\r\n   <g id=\"patch_2\">\r\n    <path d=\"M 26.925 224.64 \r\nL 244.365 224.64 \r\nL 244.365 7.2 \r\nL 26.925 7.2 \r\nz\r\n\" style=\"fill:#ffffff;\"/>\r\n   </g>\r\n   <g clip-path=\"url(#pcf3d0faba7)\">\r\n    <image height=\"218\" id=\"image1d8aedaca3\" transform=\"scale(1 -1)translate(0 -218)\" width=\"218\" x=\"26.925\" xlink:href=\"data:image/png;base64,\r\niVBORw0KGgoAAAANSUhEUgAAANoAAADaCAYAAADAHVzbAAAE40lEQVR4nO3dT2jXdRzH8d9XjblGsbSETCIqLYT+kBgVRUK7mNAOrU7dOqXRIQhKKKJDx6RLsEIPXkOSCjr076LYFoRoCYqFERZUYg20pM11Dvq+ZT/d67f99nhcX37Z5/L0A/vy+60ZacZmO8C8WtbrA8BSIDQIEBoECA0ChAYBQoMAoUGA0CBAaBAgNAgQGgQIDQKEBgFCgwChQYDQIEBoECA0CBAaBAgNAoQGAUKDAKFBgNAgQGgQIDQIEBoECA0ChAYBQoOAFb0+wGLVDAyU+4aDF1u3o2fXls8OPnm23GempsqdhceNBgFCgwChQYDQIEBoECA0CBAaBHiP1qVll3iPtvHq71u3XTdOlM/euXNHud/68qFyZ+Fxo0GA0CBAaBAgNAgQGgQIDQKEBgHNSDM22+tD9KMT721u3U4+Pl4++8bvd5X7xKbBcp+dni538txoECA0CBAaBAgNAoQGAUKDAKFBgM+jzZObP2xatwtb6/dcr11/tNwfHX2u3If21Z93I8+NBgFCgwChQYDQIEBoECA0CPDr/Xmy8qPJ1u3ArqHy2ccGL1zp49BjbjQIEBoECA0ChAYBQoMAoUGA0CDAe7Qe2D7xTLkf37K73E9vnSn3DfvmfCTmmRsNAoQGAUKDAKFBgNAgQGgQIDQI8B6tB5b9tPKynh8c/vsKnYQUNxoECA0ChAYBQoMAoUGA0CBAaBDgPVoPrB//udy/erp+/oWNX5b7B50b5nok5pkbDQKEBgFCgwChQYDQIEBoENCMNGOzvT4E/zX1yW3lfuDu98v9gVd3lPuqPYfmfCYujxsNAoQGAUKDAKFBgNAgQGgQIDQI8DGZBei3b9eU+/J76v8fp0fP1j9gz1xPxOVyo0GA0CBAaBAgNAgQGgQIDQKEBgHeoy1A676YLvcjT9V/tumJW46W++TQcOt28dy58lm640aDAKFBgNAgQGgQIDQIEBoECA0CfK/jInTi3c3lfnLbeLk/9Er79z4O7/Wdj/PBjQYBQoMAoUGA0CBAaBAgNAgQGgT4PNoidO2xq+p/sK2e733+cOt2au/cz8OludEgQGgQIDQIEBoECA0ChAYBfr2/CN306Zn6H7xUz5uu+bF1O9Wp/2QU3XGjQYDQIEBoECA0CBAaBAgNAoQGAd6jLUIz3x0v952/3lfu9w/90LotH15f/+w//ix3/p8bDQKEBgFCgwChQYDQIEBoECA0CPAerQ99/s6D5f7m69+0bm9vuaN8dnD/ZFdnWurcaBAgNAgQGgQIDQKEBgFCgwChQYD3aH1o1bG/yv2XmfOt2+mxf8pnb9/fzYlwo0GA0CBAaBAgNAgQGgQIDQKEBgHeo/Wh5uDhcn/k4xdbt8+2vVU+u73zcDdHWvLcaBAgNAgQGgQIDQKEBgFCgwC/3l+CrjuyvHVbNzpQPnvm2fqr7FbvPtTVmfqdGw0ChAYBQoMAoUGA0CBAaBAgNAjwHm0JWvP1VOu2otP+jq3T6XTOr23KfXVXJ+p/bjQIEBoECA0ChAYBQoMAoUGA0CCgGWnGZnt9COh3bjQIEBoECA0ChAYBQoMAoUGA0CBAaBAgNAgQGgQIDQKEBgFCgwChQYDQIEBoECA0CBAaBAgNAoQGAUKDAKFBgNAgQGgQIDQIEBoECA0ChAYBQoMAoUHAv4mafO1Z+GN9AAAAAElFTkSuQmCC\" y=\"-6.64\"/>\r\n   </g>\r\n   <g id=\"matplotlib.axis_1\">\r\n    <g id=\"xtick_1\">\r\n     <g id=\"line2d_1\">\r\n      <defs>\r\n       <path d=\"M 0 0 \r\nL 0 3.5 \r\n\" id=\"m952399d013\" style=\"stroke:#000000;stroke-width:0.8;\"/>\r\n      </defs>\r\n      <g>\r\n       <use style=\"stroke:#000000;stroke-width:0.8;\" x=\"30.807857\" xlink:href=\"#m952399d013\" y=\"224.64\"/>\r\n      </g>\r\n     </g>\r\n     <g id=\"text_1\">\r\n      <!-- 0 -->\r\n      <g transform=\"translate(27.626607 239.238437)scale(0.1 -0.1)\">\r\n       <defs>\r\n        <path d=\"M 31.78125 66.40625 \r\nQ 24.171875 66.40625 20.328125 58.90625 \r\nQ 16.5 51.421875 16.5 36.375 \r\nQ 16.5 21.390625 20.328125 13.890625 \r\nQ 24.171875 6.390625 31.78125 6.390625 \r\nQ 39.453125 6.390625 43.28125 13.890625 \r\nQ 47.125 21.390625 47.125 36.375 \r\nQ 47.125 51.421875 43.28125 58.90625 \r\nQ 39.453125 66.40625 31.78125 66.40625 \r\nz\r\nM 31.78125 74.21875 \r\nQ 44.046875 74.21875 50.515625 64.515625 \r\nQ 56.984375 54.828125 56.984375 36.375 \r\nQ 56.984375 17.96875 50.515625 8.265625 \r\nQ 44.046875 -1.421875 31.78125 -1.421875 \r\nQ 19.53125 -1.421875 13.0625 8.265625 \r\nQ 6.59375 17.96875 6.59375 36.375 \r\nQ 6.59375 54.828125 13.0625 64.515625 \r\nQ 19.53125 74.21875 31.78125 74.21875 \r\nz\r\n\" id=\"DejaVuSans-48\"/>\r\n       </defs>\r\n       <use xlink:href=\"#DejaVuSans-48\"/>\r\n      </g>\r\n     </g>\r\n    </g>\r\n    <g id=\"xtick_2\">\r\n     <g id=\"line2d_2\">\r\n      <g>\r\n       <use style=\"stroke:#000000;stroke-width:0.8;\" x=\"69.636429\" xlink:href=\"#m952399d013\" y=\"224.64\"/>\r\n      </g>\r\n     </g>\r\n     <g id=\"text_2\">\r\n      <!-- 5 -->\r\n      <g transform=\"translate(66.455179 239.238437)scale(0.1 -0.1)\">\r\n       <defs>\r\n        <path d=\"M 10.796875 72.90625 \r\nL 49.515625 72.90625 \r\nL 49.515625 64.59375 \r\nL 19.828125 64.59375 \r\nL 19.828125 46.734375 \r\nQ 21.96875 47.46875 24.109375 47.828125 \r\nQ 26.265625 48.1875 28.421875 48.1875 \r\nQ 40.625 48.1875 47.75 41.5 \r\nQ 54.890625 34.8125 54.890625 23.390625 \r\nQ 54.890625 11.625 47.5625 5.09375 \r\nQ 40.234375 -1.421875 26.90625 -1.421875 \r\nQ 22.3125 -1.421875 17.546875 -0.640625 \r\nQ 12.796875 0.140625 7.71875 1.703125 \r\nL 7.71875 11.625 \r\nQ 12.109375 9.234375 16.796875 8.0625 \r\nQ 21.484375 6.890625 26.703125 6.890625 \r\nQ 35.15625 6.890625 40.078125 11.328125 \r\nQ 45.015625 15.765625 45.015625 23.390625 \r\nQ 45.015625 31 40.078125 35.4375 \r\nQ 35.15625 39.890625 26.703125 39.890625 \r\nQ 22.75 39.890625 18.8125 39.015625 \r\nQ 14.890625 38.140625 10.796875 36.28125 \r\nz\r\n\" id=\"DejaVuSans-53\"/>\r\n       </defs>\r\n       <use xlink:href=\"#DejaVuSans-53\"/>\r\n      </g>\r\n     </g>\r\n    </g>\r\n    <g id=\"xtick_3\">\r\n     <g id=\"line2d_3\">\r\n      <g>\r\n       <use style=\"stroke:#000000;stroke-width:0.8;\" x=\"108.465\" xlink:href=\"#m952399d013\" y=\"224.64\"/>\r\n      </g>\r\n     </g>\r\n     <g id=\"text_3\">\r\n      <!-- 10 -->\r\n      <g transform=\"translate(102.1025 239.238437)scale(0.1 -0.1)\">\r\n       <defs>\r\n        <path d=\"M 12.40625 8.296875 \r\nL 28.515625 8.296875 \r\nL 28.515625 63.921875 \r\nL 10.984375 60.40625 \r\nL 10.984375 69.390625 \r\nL 28.421875 72.90625 \r\nL 38.28125 72.90625 \r\nL 38.28125 8.296875 \r\nL 54.390625 8.296875 \r\nL 54.390625 0 \r\nL 12.40625 0 \r\nz\r\n\" id=\"DejaVuSans-49\"/>\r\n       </defs>\r\n       <use xlink:href=\"#DejaVuSans-49\"/>\r\n       <use x=\"63.623047\" xlink:href=\"#DejaVuSans-48\"/>\r\n      </g>\r\n     </g>\r\n    </g>\r\n    <g id=\"xtick_4\">\r\n     <g id=\"line2d_4\">\r\n      <g>\r\n       <use style=\"stroke:#000000;stroke-width:0.8;\" x=\"147.293571\" xlink:href=\"#m952399d013\" y=\"224.64\"/>\r\n      </g>\r\n     </g>\r\n     <g id=\"text_4\">\r\n      <!-- 15 -->\r\n      <g transform=\"translate(140.931071 239.238437)scale(0.1 -0.1)\">\r\n       <use xlink:href=\"#DejaVuSans-49\"/>\r\n       <use x=\"63.623047\" xlink:href=\"#DejaVuSans-53\"/>\r\n      </g>\r\n     </g>\r\n    </g>\r\n    <g id=\"xtick_5\">\r\n     <g id=\"line2d_5\">\r\n      <g>\r\n       <use style=\"stroke:#000000;stroke-width:0.8;\" x=\"186.122143\" xlink:href=\"#m952399d013\" y=\"224.64\"/>\r\n      </g>\r\n     </g>\r\n     <g id=\"text_5\">\r\n      <!-- 20 -->\r\n      <g transform=\"translate(179.759643 239.238437)scale(0.1 -0.1)\">\r\n       <defs>\r\n        <path d=\"M 19.1875 8.296875 \r\nL 53.609375 8.296875 \r\nL 53.609375 0 \r\nL 7.328125 0 \r\nL 7.328125 8.296875 \r\nQ 12.9375 14.109375 22.625 23.890625 \r\nQ 32.328125 33.6875 34.8125 36.53125 \r\nQ 39.546875 41.84375 41.421875 45.53125 \r\nQ 43.3125 49.21875 43.3125 52.78125 \r\nQ 43.3125 58.59375 39.234375 62.25 \r\nQ 35.15625 65.921875 28.609375 65.921875 \r\nQ 23.96875 65.921875 18.8125 64.3125 \r\nQ 13.671875 62.703125 7.8125 59.421875 \r\nL 7.8125 69.390625 \r\nQ 13.765625 71.78125 18.9375 73 \r\nQ 24.125 74.21875 28.421875 74.21875 \r\nQ 39.75 74.21875 46.484375 68.546875 \r\nQ 53.21875 62.890625 53.21875 53.421875 \r\nQ 53.21875 48.921875 51.53125 44.890625 \r\nQ 49.859375 40.875 45.40625 35.40625 \r\nQ 44.1875 33.984375 37.640625 27.21875 \r\nQ 31.109375 20.453125 19.1875 8.296875 \r\nz\r\n\" id=\"DejaVuSans-50\"/>\r\n       </defs>\r\n       <use xlink:href=\"#DejaVuSans-50\"/>\r\n       <use x=\"63.623047\" xlink:href=\"#DejaVuSans-48\"/>\r\n      </g>\r\n     </g>\r\n    </g>\r\n    <g id=\"xtick_6\">\r\n     <g id=\"line2d_6\">\r\n      <g>\r\n       <use style=\"stroke:#000000;stroke-width:0.8;\" x=\"224.950714\" xlink:href=\"#m952399d013\" y=\"224.64\"/>\r\n      </g>\r\n     </g>\r\n     <g id=\"text_6\">\r\n      <!-- 25 -->\r\n      <g transform=\"translate(218.588214 239.238437)scale(0.1 -0.1)\">\r\n       <use xlink:href=\"#DejaVuSans-50\"/>\r\n       <use x=\"63.623047\" xlink:href=\"#DejaVuSans-53\"/>\r\n      </g>\r\n     </g>\r\n    </g>\r\n   </g>\r\n   <g id=\"matplotlib.axis_2\">\r\n    <g id=\"ytick_1\">\r\n     <g id=\"line2d_7\">\r\n      <defs>\r\n       <path d=\"M 0 0 \r\nL -3.5 0 \r\n\" id=\"m7f1d967e1b\" style=\"stroke:#000000;stroke-width:0.8;\"/>\r\n      </defs>\r\n      <g>\r\n       <use style=\"stroke:#000000;stroke-width:0.8;\" x=\"26.925\" xlink:href=\"#m7f1d967e1b\" y=\"11.082857\"/>\r\n      </g>\r\n     </g>\r\n     <g id=\"text_7\">\r\n      <!-- 0 -->\r\n      <g transform=\"translate(13.5625 14.882076)scale(0.1 -0.1)\">\r\n       <use xlink:href=\"#DejaVuSans-48\"/>\r\n      </g>\r\n     </g>\r\n    </g>\r\n    <g id=\"ytick_2\">\r\n     <g id=\"line2d_8\">\r\n      <g>\r\n       <use style=\"stroke:#000000;stroke-width:0.8;\" x=\"26.925\" xlink:href=\"#m7f1d967e1b\" y=\"49.911429\"/>\r\n      </g>\r\n     </g>\r\n     <g id=\"text_8\">\r\n      <!-- 5 -->\r\n      <g transform=\"translate(13.5625 53.710647)scale(0.1 -0.1)\">\r\n       <use xlink:href=\"#DejaVuSans-53\"/>\r\n      </g>\r\n     </g>\r\n    </g>\r\n    <g id=\"ytick_3\">\r\n     <g id=\"line2d_9\">\r\n      <g>\r\n       <use style=\"stroke:#000000;stroke-width:0.8;\" x=\"26.925\" xlink:href=\"#m7f1d967e1b\" y=\"88.74\"/>\r\n      </g>\r\n     </g>\r\n     <g id=\"text_9\">\r\n      <!-- 10 -->\r\n      <g transform=\"translate(7.2 92.539219)scale(0.1 -0.1)\">\r\n       <use xlink:href=\"#DejaVuSans-49\"/>\r\n       <use x=\"63.623047\" xlink:href=\"#DejaVuSans-48\"/>\r\n      </g>\r\n     </g>\r\n    </g>\r\n    <g id=\"ytick_4\">\r\n     <g id=\"line2d_10\">\r\n      <g>\r\n       <use style=\"stroke:#000000;stroke-width:0.8;\" x=\"26.925\" xlink:href=\"#m7f1d967e1b\" y=\"127.568571\"/>\r\n      </g>\r\n     </g>\r\n     <g id=\"text_10\">\r\n      <!-- 15 -->\r\n      <g transform=\"translate(7.2 131.36779)scale(0.1 -0.1)\">\r\n       <use xlink:href=\"#DejaVuSans-49\"/>\r\n       <use x=\"63.623047\" xlink:href=\"#DejaVuSans-53\"/>\r\n      </g>\r\n     </g>\r\n    </g>\r\n    <g id=\"ytick_5\">\r\n     <g id=\"line2d_11\">\r\n      <g>\r\n       <use style=\"stroke:#000000;stroke-width:0.8;\" x=\"26.925\" xlink:href=\"#m7f1d967e1b\" y=\"166.397143\"/>\r\n      </g>\r\n     </g>\r\n     <g id=\"text_11\">\r\n      <!-- 20 -->\r\n      <g transform=\"translate(7.2 170.196362)scale(0.1 -0.1)\">\r\n       <use xlink:href=\"#DejaVuSans-50\"/>\r\n       <use x=\"63.623047\" xlink:href=\"#DejaVuSans-48\"/>\r\n      </g>\r\n     </g>\r\n    </g>\r\n    <g id=\"ytick_6\">\r\n     <g id=\"line2d_12\">\r\n      <g>\r\n       <use style=\"stroke:#000000;stroke-width:0.8;\" x=\"26.925\" xlink:href=\"#m7f1d967e1b\" y=\"205.225714\"/>\r\n      </g>\r\n     </g>\r\n     <g id=\"text_12\">\r\n      <!-- 25 -->\r\n      <g transform=\"translate(7.2 209.024933)scale(0.1 -0.1)\">\r\n       <use xlink:href=\"#DejaVuSans-50\"/>\r\n       <use x=\"63.623047\" xlink:href=\"#DejaVuSans-53\"/>\r\n      </g>\r\n     </g>\r\n    </g>\r\n   </g>\r\n   <g id=\"patch_3\">\r\n    <path d=\"M 26.925 224.64 \r\nL 26.925 7.2 \r\n\" style=\"fill:none;stroke:#000000;stroke-linecap:square;stroke-linejoin:miter;stroke-width:0.8;\"/>\r\n   </g>\r\n   <g id=\"patch_4\">\r\n    <path d=\"M 244.365 224.64 \r\nL 244.365 7.2 \r\n\" style=\"fill:none;stroke:#000000;stroke-linecap:square;stroke-linejoin:miter;stroke-width:0.8;\"/>\r\n   </g>\r\n   <g id=\"patch_5\">\r\n    <path d=\"M 26.925 224.64 \r\nL 244.365 224.64 \r\n\" style=\"fill:none;stroke:#000000;stroke-linecap:square;stroke-linejoin:miter;stroke-width:0.8;\"/>\r\n   </g>\r\n   <g id=\"patch_6\">\r\n    <path d=\"M 26.925 7.2 \r\nL 244.365 7.2 \r\n\" style=\"fill:none;stroke:#000000;stroke-linecap:square;stroke-linejoin:miter;stroke-width:0.8;\"/>\r\n   </g>\r\n  </g>\r\n </g>\r\n <defs>\r\n  <clipPath id=\"pcf3d0faba7\">\r\n   <rect height=\"217.44\" width=\"217.44\" x=\"26.925\" y=\"7.2\"/>\r\n  </clipPath>\r\n </defs>\r\n</svg>\r\n",
            "image/png": "[encoded data removed]"
          },
          "metadata": {
            "needs_background": "light"
          }
        },
        {
          "output_type": "stream",
          "name": "stdout",
          "text": [
            "[3.98483564e-07 9.99325037e-01 1.03574139e-05 6.44578222e-08\n",
            " 5.16285829e-04 1.20904599e-06 2.03833006e-05 1.07307766e-04\n",
            " 1.75472887e-05 1.48767674e-06]\n"
          ]
        }
      ],
      "metadata": {}
    },
    {
      "cell_type": "code",
      "execution_count": 5,
      "source": [
        "score = model.evaluate(x_test, y_test, verbose=0)\r\n",
        "print(\"Test loss:\", score[0])\r\n",
        "print(\"Test accuracy:\", score[1])"
      ],
      "outputs": [
        {
          "output_type": "stream",
          "name": "stdout",
          "text": [
            "Test loss: 0.024767795577645302\n",
            "Test accuracy: 0.9909999966621399\n"
          ]
        }
      ],
      "metadata": {
        "id": "iVpCoB9C4Gnx"
      }
    },
    {
      "cell_type": "markdown",
      "source": [
        "#save_Model_and_reload"
      ],
      "metadata": {}
    },
    {
      "cell_type": "code",
      "execution_count": 8,
      "source": [
        "model.save('mnistModelLearned.h5')"
      ],
      "outputs": [],
      "metadata": {}
    },
    {
      "cell_type": "code",
      "execution_count": 3,
      "source": [
        "model = load_model('mnistModelLearned.h5')"
      ],
      "outputs": [],
      "metadata": {}
    }
  ]
}