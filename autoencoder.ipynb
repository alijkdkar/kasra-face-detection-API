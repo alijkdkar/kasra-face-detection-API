{
  "nbformat": 4,
  "nbformat_minor": 0,
  "metadata": {
    "colab": {
      "name": "autoencoder",
      "provenance": [],
      "collapsed_sections": [],
      "toc_visible": true
    },
    "kernelspec": {
      "display_name": "Python 3",
      "language": "python",
      "name": "python3"
    },
    "language_info": {
      "codemirror_mode": {
        "name": "ipython",
        "version": 3
      },
      "file_extension": ".py",
      "mimetype": "text/x-python",
      "name": "python",
      "nbconvert_exporter": "python",
      "pygments_lexer": "ipython3",
      "version": "3.7.0"
    }
  },
  "cells": [
    {
      "cell_type": "markdown",
      "metadata": {
        "id": "RhOb8NtP57aI"
      },
      "source": [
        "# Convolutional autoencoder for image denoising\n",
        "\n",
        "**Author:** [Santiago L. Valdarrama](https://twitter.com/svpino)<br>\n",
        "**Date created:** 2021/03/01<br>\n",
        "**Last modified:** 2021/03/01<br>\n",
        "**Description:** How to train a deep convolutional autoencoder for image denoising."
      ]
    },
    {
      "cell_type": "markdown",
      "metadata": {
        "id": "qUrowl4c57aM"
      },
      "source": [
        "## Introduction\n",
        "\n",
        "This example demonstrates how to implement a deep convolutional autoencoder\n",
        "for image denoising, mapping noisy digits images from the MNIST dataset to\n",
        "clean digits images. This implementation is based on an original blog post\n",
        "titled [Building Autoencoders in Keras](https://blog.keras.io/building-autoencoders-in-keras.html)\n",
        "by [François Chollet](https://twitter.com/fchollet)."
      ]
    },
    {
      "cell_type": "markdown",
      "metadata": {
        "id": "WWulUqzD57aP"
      },
      "source": [
        "## Setup"
      ]
    },
    {
      "cell_type": "code",
      "metadata": {
        "id": "BUDirKXq57aQ"
      },
      "source": [
        "import numpy as np\n",
        "import tensorflow as tf\n",
        "import matplotlib.pyplot as plt\n",
        "\n",
        "from tensorflow.keras import layers\n",
        "from tensorflow.keras.datasets import mnist\n",
        "from tensorflow.keras.models import Model\n",
        "\n",
        "\n",
        "def preprocess(array):\n",
        "    \"\"\"\n",
        "    Normalizes the supplied array and reshapes it into the appropriate format.\n",
        "    \"\"\"\n",
        "\n",
        "    array = array.astype(\"float32\") / 255.0\n",
        "    array = np.reshape(array, (len(array), 28, 28, 1))\n",
        "    return array\n",
        "\n",
        "\n",
        "def noise(array):\n",
        "    \"\"\"\n",
        "    Adds random noise to each image in the supplied array.\n",
        "    \"\"\"\n",
        "\n",
        "    noise_factor = 0.4\n",
        "    noisy_array = array + noise_factor * np.random.normal(\n",
        "        loc=0.0, scale=1.0, size=array.shape\n",
        "    )\n",
        "\n",
        "    return np.clip(noisy_array, 0.0, 1.0)\n",
        "\n",
        "\n",
        "def display(array1, array2):\n",
        "    \"\"\"\n",
        "    Displays ten random images from each one of the supplied arrays.\n",
        "    \"\"\"\n",
        "\n",
        "    n = 10\n",
        "\n",
        "    indices = np.random.randint(len(array1), size=n)\n",
        "    images1 = array1[indices, :]\n",
        "    images2 = array2[indices, :]\n",
        "\n",
        "    plt.figure(figsize=(20, 4))\n",
        "    for i, (image1, image2) in enumerate(zip(images1, images2)):\n",
        "        ax = plt.subplot(2, n, i + 1)\n",
        "        plt.imshow(image1.reshape(28, 28))\n",
        "        plt.gray()\n",
        "        ax.get_xaxis().set_visible(False)\n",
        "        ax.get_yaxis().set_visible(False)\n",
        "\n",
        "        ax = plt.subplot(2, n, i + 1 + n)\n",
        "        plt.imshow(image2.reshape(28, 28))\n",
        "        plt.gray()\n",
        "        ax.get_xaxis().set_visible(False)\n",
        "        ax.get_yaxis().set_visible(False)\n",
        "\n",
        "    plt.show()\n"
      ],
      "execution_count": 1,
      "outputs": []
    },
    {
      "cell_type": "markdown",
      "metadata": {
        "id": "enDXtk9A57aS"
      },
      "source": [
        "## Prepare the data"
      ]
    },
    {
      "cell_type": "code",
      "metadata": {
        "id": "FKMFNSIC57aT",
        "outputId": "d0feac58-f221-4ff8-8f3d-071313c2a320",
        "colab": {
          "base_uri": "https://localhost:8080/",
          "height": 260
        }
      },
      "source": [
        "# Since we only need images from the dataset to encode and decode, we\n",
        "# won't use the labels.s\n",
        "(train_data, _), (test_data, _) = mnist.load_data()\n",
        "\n",
        "# Normalize and reshape the data\n",
        "train_data = preprocess(train_data)\n",
        "test_data = preprocess(test_data)\n",
        "\n",
        "# Create a copy of the data with added noise\n",
        "noisy_train_data = noise(train_data)\n",
        "noisy_test_data = noise(test_data)\n",
        "\n",
        "# Display the train data and a version of it with added noise\n",
        "display(train_data, noisy_train_data)"
      ],
      "execution_count": 2,
      "outputs": [
        {
          "output_type": "stream",
          "text": [
            "Downloading data from https://storage.googleapis.com/tensorflow/tf-keras-datasets/mnist.npz\n",
            "11493376/11490434 [==============================] - 0s 0us/step\n",
            "11501568/11490434 [==============================] - 0s 0us/step\n"
          ],
          "name": "stdout"
        },
        {
          "output_type": "display_data",
          "data": {
            "image/png": "[encoded data removed]",
            "text/plain": [
              "<Figure size 1440x288 with 20 Axes>"
            ]
          },
          "metadata": {
            "needs_background": "light"
          }
        }
      ]
    },
    {
      "cell_type": "markdown",
      "metadata": {
        "id": "UD9PRgVx57aV"
      },
      "source": [
        "## Build the autoencoder\n",
        "\n",
        "We are going to use the Functional API to build our convolutional autoencoder."
      ]
    },
    {
      "cell_type": "code",
      "metadata": {
        "id": "zQN2LM6757aX",
        "outputId": "2ce476ed-5501-4020-90c8-37c2bf11488b",
        "colab": {
          "base_uri": "https://localhost:8080/"
        }
      },
      "source": [
        "input = layers.Input(shape=(28, 28, 1))\n",
        "\n",
        "# Encoder\n",
        "x = layers.Conv2D(32, (3, 3), activation=\"relu\", padding=\"same\")(input)\n",
        "x = layers.MaxPooling2D((2, 2), padding=\"same\")(x)\n",
        "x = layers.Conv2D(32, (3, 3), activation=\"relu\", padding=\"same\")(x)\n",
        "x = layers.MaxPooling2D((2, 2), padding=\"same\")(x)\n",
        "\n",
        "# Decoder\n",
        "x = layers.Conv2DTranspose(32, (3, 3), strides=2, activation=\"relu\", padding=\"same\")(x)\n",
        "x = layers.Conv2DTranspose(32, (3, 3), strides=2, activation=\"relu\", padding=\"same\")(x)\n",
        "x = layers.Conv2D(1, (3, 3), activation=\"sigmoid\", padding=\"same\")(x)\n",
        "\n",
        "# Autoencoder\n",
        "autoencoder = Model(input, x)\n",
        "autoencoder.compile(optimizer=\"adam\", loss=\"binary_crossentropy\")\n",
        "autoencoder.summary()"
      ],
      "execution_count": 3,
      "outputs": [
        {
          "output_type": "stream",
          "text": [
            "Model: \"model\"\n",
            "_________________________________________________________________\n",
            "Layer (type)                 Output Shape              Param #   \n",
            "=================================================================\n",
            "input_1 (InputLayer)         [(None, 28, 28, 1)]       0         \n",
            "_________________________________________________________________\n",
            "conv2d (Conv2D)              (None, 28, 28, 32)        320       \n",
            "_________________________________________________________________\n",
            "max_pooling2d (MaxPooling2D) (None, 14, 14, 32)        0         \n",
            "_________________________________________________________________\n",
            "conv2d_1 (Conv2D)            (None, 14, 14, 32)        9248      \n",
            "_________________________________________________________________\n",
            "max_pooling2d_1 (MaxPooling2 (None, 7, 7, 32)          0         \n",
            "_________________________________________________________________\n",
            "conv2d_transpose (Conv2DTran (None, 14, 14, 32)        9248      \n",
            "_________________________________________________________________\n",
            "conv2d_transpose_1 (Conv2DTr (None, 28, 28, 32)        9248      \n",
            "_________________________________________________________________\n",
            "conv2d_2 (Conv2D)            (None, 28, 28, 1)         289       \n",
            "=================================================================\n",
            "Total params: 28,353\n",
            "Trainable params: 28,353\n",
            "Non-trainable params: 0\n",
            "_________________________________________________________________\n"
          ],
          "name": "stdout"
        }
      ]
    },
    {
      "cell_type": "markdown",
      "metadata": {
        "id": "s6OhvM0s57aZ"
      },
      "source": [
        "Now we can train our autoencoder using `train_data` as both our input data\n",
        "and target. Notice we are setting up the validation data using the same\n",
        "format."
      ]
    },
    {
      "cell_type": "code",
      "metadata": {
        "id": "4-PbBrip57ac",
        "outputId": "f5919034-3f56-4acd-9e14-dde1c7889652",
        "colab": {
          "base_uri": "https://localhost:8080/"
        }
      },
      "source": [
        "autoencoder.fit(\n",
        "    x=train_data,\n",
        "    y=train_data,\n",
        "    epochs=50,\n",
        "    batch_size=128,\n",
        "    shuffle=True,\n",
        "    validation_data=(test_data, test_data),\n",
        ")"
      ],
      "execution_count": null,
      "outputs": [
        {
          "output_type": "stream",
          "text": [
            "Epoch 1/50\n",
            "469/469 [==============================] - 127s 270ms/step - loss: 0.1359 - val_loss: 0.0732\n",
            "Epoch 2/50\n",
            "469/469 [==============================] - 129s 274ms/step - loss: 0.0715 - val_loss: 0.0694\n",
            "Epoch 3/50\n",
            "469/469 [==============================] - 126s 270ms/step - loss: 0.0692 - val_loss: 0.0682\n",
            "Epoch 4/50\n",
            "469/469 [==============================] - 125s 266ms/step - loss: 0.0681 - val_loss: 0.0673\n",
            "Epoch 5/50\n",
            "469/469 [==============================] - 126s 269ms/step - loss: 0.0673 - val_loss: 0.0666\n",
            "Epoch 6/50\n",
            "469/469 [==============================] - 126s 268ms/step - loss: 0.0667 - val_loss: 0.0661\n",
            "Epoch 7/50\n",
            "469/469 [==============================] - 128s 272ms/step - loss: 0.0663 - val_loss: 0.0657\n",
            "Epoch 8/50\n",
            "469/469 [==============================] - 128s 273ms/step - loss: 0.0659 - val_loss: 0.0653\n",
            "Epoch 9/50\n",
            "469/469 [==============================] - 130s 277ms/step - loss: 0.0656 - val_loss: 0.0650\n",
            "Epoch 10/50\n",
            "469/469 [==============================] - 128s 274ms/step - loss: 0.0653 - val_loss: 0.0648\n",
            "Epoch 11/50\n",
            "469/469 [==============================] - 125s 267ms/step - loss: 0.0651 - val_loss: 0.0645\n",
            "Epoch 12/50\n",
            "469/469 [==============================] - 126s 268ms/step - loss: 0.0649 - val_loss: 0.0644\n",
            "Epoch 13/50\n",
            "469/469 [==============================] - 123s 263ms/step - loss: 0.0647 - val_loss: 0.0642\n",
            "Epoch 14/50\n",
            "469/469 [==============================] - 123s 262ms/step - loss: 0.0645 - val_loss: 0.0640\n",
            "Epoch 15/50\n",
            "469/469 [==============================] - 125s 266ms/step - loss: 0.0644 - val_loss: 0.0640\n",
            "Epoch 16/50\n",
            "469/469 [==============================] - 125s 267ms/step - loss: 0.0642 - val_loss: 0.0638\n",
            "Epoch 17/50\n",
            "469/469 [==============================] - 126s 269ms/step - loss: 0.0641 - val_loss: 0.0637\n",
            "Epoch 18/50\n",
            "469/469 [==============================] - 127s 270ms/step - loss: 0.0640 - val_loss: 0.0636\n",
            "Epoch 19/50\n",
            "469/469 [==============================] - 124s 264ms/step - loss: 0.0639 - val_loss: 0.0635\n",
            "Epoch 20/50\n",
            " 89/469 [====>.........................] - ETA: 1:35 - loss: 0.0638"
          ],
          "name": "stdout"
        }
      ]
    },
    {
      "cell_type": "markdown",
      "metadata": {
        "id": "Zc4U8O4s57ad"
      },
      "source": [
        "Let's predict on our test dataset and display the original image together with\n",
        "the prediction from our autoencoder.\n",
        "\n",
        "Notice how the predictions are pretty close to the original images, although\n",
        "not quite the same."
      ]
    },
    {
      "cell_type": "code",
      "metadata": {
        "id": "kumYmB_d57ad"
      },
      "source": [
        "predictions = autoencoder.predict(test_data)\n",
        "display(test_data, predictions)"
      ],
      "execution_count": null,
      "outputs": []
    },
    {
      "cell_type": "markdown",
      "metadata": {
        "id": "sMa0yvf-57ae"
      },
      "source": [
        "Now that we know that our autoencoder works, let's retrain it using the noisy\n",
        "data as our input and the clean data as our target. We want our autoencoder to\n",
        "learn how to denoise the images."
      ]
    },
    {
      "cell_type": "code",
      "metadata": {
        "id": "LpmTR9f257af"
      },
      "source": [
        "autoencoder.fit(\n",
        "    x=noisy_train_data,\n",
        "    y=train_data,\n",
        "    epochs=100,\n",
        "    batch_size=128,\n",
        "    shuffle=True,\n",
        "    validation_data=(noisy_test_data, test_data),\n",
        ")"
      ],
      "execution_count": null,
      "outputs": []
    },
    {
      "cell_type": "markdown",
      "metadata": {
        "id": "cAc8WkYR57af"
      },
      "source": [
        "Let's now predict on the noisy data and display the results of our autoencoder.\n",
        "\n",
        "Notice how the autoencoder does an amazing job at removing the noise from the\n",
        "input images."
      ]
    },
    {
      "cell_type": "code",
      "metadata": {
        "id": "uhi7UWRM57ag"
      },
      "source": [
        "predictions = autoencoder.predict(noisy_test_data)\n",
        "display(noisy_test_data, predictions)"
      ],
      "execution_count": null,
      "outputs": []
    }
  ]
}