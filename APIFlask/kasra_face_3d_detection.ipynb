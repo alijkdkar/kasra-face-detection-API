{
  "nbformat": 4,
  "nbformat_minor": 0,
  "metadata": {
    "colab": {
      "name": "kasra face 3d detection.ipynb",
      "provenance": [],
      "collapsed_sections": [
        "pda2j8b-Bw9M"
      ]
    },
    "kernelspec": {
      "name": "python3",
      "display_name": "Python 3"
    },
    "language_info": {
      "name": "python"
    }
  },
  "cells": [
    {
      "cell_type": "markdown",
      "metadata": {
        "id": "AeEQfQtoE0l6"
      },
      "source": [
        "#import Liberary\n"
      ]
    },
    {
      "cell_type": "code",
      "metadata": {
        "id": "do2T4flAEFMP",
        "colab": {
          "base_uri": "https://localhost:8080/",
          "height": 17
        },
        "outputId": "53f27c1a-cd95-4249-ce5c-cbb87935ea48"
      },
      "source": [
        "from keras.layers import Conv3D, MaxPool3D, Flatten, Dense\n",
        "from keras.layers import Dropout, Input, BatchNormalization\n",
        "import keras.layers as layers\n",
        "from sklearn.metrics import confusion_matrix, accuracy_score\n",
        "from plotly.offline import iplot, init_notebook_mode\n",
        "from keras.losses import categorical_crossentropy\n",
        "#from keras.optimizers import Adadelta\n",
        "import plotly.graph_objs as go\n",
        "from matplotlib.pyplot import cm\n",
        "from keras.models import Model\n",
        "import numpy as np\n",
        "import keras as keras\n",
        "import h5py\n",
        "import os\n",
        "import matplotlib.pyplot as plt\n",
        "from PIL import Image\n",
        "from keras.models import Sequential\n",
        "\n",
        "init_notebook_mode(connected=True)\n",
        "%matplotlib inline"
      ],
      "execution_count": 1,
      "outputs": [
        {
          "output_type": "display_data",
          "data": {
            "text/html": [
              "        <script type=\"text/javascript\">\n",
              "        window.PlotlyConfig = {MathJaxConfig: 'local'};\n",
              "        if (window.MathJax) {MathJax.Hub.Config({SVG: {font: \"STIX-Web\"}});}\n",
              "        if (typeof require !== 'undefined') {\n",
              "        require.undef(\"plotly\");\n",
              "        requirejs.config({\n",
              "            paths: {\n",
              "                'plotly': ['https://cdn.plot.ly/plotly-latest.min']\n",
              "            }\n",
              "        });\n",
              "        require(['plotly'], function(Plotly) {\n",
              "            window._Plotly = Plotly;\n",
              "        });\n",
              "        }\n",
              "        </script>\n",
              "        "
            ]
          },
          "metadata": {}
        }
      ]
    },
    {
      "cell_type": "markdown",
      "metadata": {
        "id": "PAf5SOTv8Ieo"
      },
      "source": [
        "#main Func"
      ]
    },
    {
      "cell_type": "code",
      "metadata": {
        "id": "ZXjFZ0E58LZm"
      },
      "source": [
        "def load_image( infilename ) :\n",
        "    img = Image.open( infilename )\n",
        "    img.load()\n",
        "    data = np.asarray( img, dtype=\"int32\" )\n",
        "    return data\n",
        "\n",
        "\n",
        "def load_image_as_gray( infilename ) :\n",
        "    img = Image.open( infilename ).convert('L')\n",
        "    img.load()\n",
        "    data = np.asarray( img, dtype=\"int32\" )\n",
        "    return data\n",
        "def display_gray_image(img):\n",
        "    plt.imshow(img.reshape(150,100)*255, cmap='gray', vmin=0, vmax=255)\n",
        "    plt.show()"
      ],
      "execution_count": 2,
      "outputs": []
    },
    {
      "cell_type": "markdown",
      "metadata": {
        "id": "XGs59GCRMZEa"
      },
      "source": [
        "##3D Neural Network Model\n"
      ]
    },
    {
      "cell_type": "code",
      "metadata": {
        "id": "LrOoQ8rRRkMQ"
      },
      "source": [
        "def get_3d_model(width=150,height=100,depth=3):\n",
        "    \"\"\"Build a 3D convolutional neural network model.\"\"\"\n",
        "\n",
        "    inputs = keras.Input( (150, 100, 1))\n",
        "    \n",
        "   \n",
        "    x = layers.Conv3D(filters=64, kernel_size=3, activation=\"relu\")(inputs)\n",
        "    x = layers.MaxPool3D(pool_size=2, padding='same')(x)\n",
        "    x = layers.BatchNormalization()(x)\n",
        "\n",
        "    x = layers.Conv3D(filters=64, kernel_size=3, activation=\"relu\")(x)\n",
        "    x = layers.MaxPool3D(pool_size=2, padding='same')(x)\n",
        "    x = layers.BatchNormalization()(x)\n",
        "\n",
        "    x = layers.Conv3D(filters=128, kernel_size=3, activation=\"relu\")(x)\n",
        "    x = layers.MaxPool3D(pool_size=2, padding='same')(x)\n",
        "    x = layers.BatchNormalization()(x)\n",
        "\n",
        "    x = layers.Conv3D(filters=256, kernel_size=3, activation=\"relu\")(x)\n",
        "    x = layers.MaxPool3D(pool_size=2, padding='same')(x)\n",
        "    x = layers.BatchNormalization()(x)\n",
        "\n",
        "    x = layers.GlobalAveragePooling3D()(x)\n",
        "    x = layers.Dense(units=512, activation=\"relu\")(x)\n",
        "    x = layers.Dropout(0.3)(x)\n",
        "\n",
        "    outputs = layers.Dense(units=11, activation=\"sigmoid\")(x)\n",
        "\n",
        "    # Define the model.\n",
        "    model = keras.Model(inputs, outputs, name=\"3dcnn\")\n",
        "    return model\n",
        "\n",
        "def get_2d_conv(input_shape,num_classes):\n",
        "    #input_shape = (150, 100, 1)\n",
        "    model = keras.Sequential(\n",
        "    [\n",
        "        keras.Input(shape=input_shape),\n",
        "        layers.Conv2D(100, kernel_size=(3, 3), activation=\"relu\"),\n",
        "        layers.MaxPooling2D(pool_size=(2, 2)),\n",
        "        layers.Conv2D(100, kernel_size=(3, 3), activation=\"relu\"),\n",
        "        layers.Conv2D(100, kernel_size=(3, 3), activation=\"relu\"),\n",
        "        layers.MaxPooling2D(pool_size=(2, 2)),\n",
        "        layers.Dropout(0.5),\n",
        "        layers.Conv2D(64, kernel_size=(3, 3), activation=\"relu\"),\n",
        "        layers.MaxPooling2D(pool_size=(2, 2)),\n",
        "        layers.Conv2D(32, kernel_size=(3, 3), activation=\"relu\"),\n",
        "        layers.Conv2D(64, kernel_size=(3, 3), activation=\"relu\"),\n",
        "        layers.MaxPooling2D(pool_size=(2, 2)),\n",
        "        layers.Flatten(),\n",
        "        layers.Dropout(0.5),\n",
        "        layers.Dense(num_classes, activation=\"softmax\"),\n",
        "    ]\n",
        "      )\n",
        "    print(input_shape)\n",
        "    model.summary()\n",
        "    return model;\n",
        "def saveModelWitht(newModel,address):\n",
        "\n",
        "    newModel.save('/content/drive/MyDrive/Kasra/networks/kasraNetworkModel.h5')\n",
        "\n",
        "\n",
        "    return 0"
      ],
      "execution_count": 3,
      "outputs": []
    },
    {
      "cell_type": "markdown",
      "metadata": {
        "id": "nKy6K_IdE6me"
      },
      "source": [
        "#import datasets and preproccessing\n"
      ]
    },
    {
      "cell_type": "code",
      "metadata": {
        "id": "cN5j0-WuMSGN",
        "colab": {
          "base_uri": "https://localhost:8080/",
          "height": 269
        },
        "outputId": "ab9235d7-1edb-4f8a-e391-4c5621cfeb12"
      },
      "source": [
        "# for root, dirs, files in os.walk('/content/drive/MyDrive/Kasra/datasets/train'):\n",
        "#     for name in files:\n",
        "#         if name.endswith((\".jpeg\", \".jpg\")):\n",
        "#             print(name)\n",
        "\n",
        "trainData =np.arange(5400000).reshape(120,150, 100, 3)\n",
        "grayTrainData = np.arange(1800000).reshape(120,150, 100,1)\n",
        "\n",
        "trainTarget = np.arange(120).reshape(120,1)\n",
        "print(grayTrainData.shape)\n",
        "print(trainTarget[4])\n",
        "i=0\n",
        "\n",
        "for root, dirs, files in os.walk('/content/drive/MyDrive/Kasra/datasets/train'):\n",
        "    for name in files:\n",
        "      \n",
        "      # Open the image form working directory\n",
        "      print(root.rsplit('/', 1)[-1]+'----->>>'+name)\n",
        "      data = load_image(root+'/'+name)\n",
        "      data1 = load_image_as_gray(root+'/'+name)\n",
        "      trainData[i]=data\n",
        "      grayTrainData[i] = data1.reshape(150,100,1)\n",
        "      trainTarget[i]=root.rsplit('/', 1)[-1]\n",
        "      \n",
        "      i+=1\n",
        "\n",
        "\n",
        "grayTrainData.shape\n",
        "#############################pre Proccessing ################\n",
        "trainTarget.shape\n",
        "\n",
        "\n",
        "ytrain = keras.utils.all_utils.to_categorical(trainTarget, 12)    \n",
        "ytrain[0]\n",
        "\n",
        "\n",
        "grayTrainData = grayTrainData/255\n",
        "data1 =data1/255\n",
        "data1.shape\n",
        "# dd = Image(age.fromarray((data1 ).astype(np.uint8))\n",
        "# data1=data1 * 255\n",
        "inde=119\n",
        "display_gray_image(grayTrainData[inde])\n",
        "print('real target:'+ str(ytrain[inde].argmax()))\n",
        "print(trainTarget[inde])\n",
        "\n",
        "\n",
        "\n",
        "\n",
        "\n",
        "\n",
        "\n",
        "\n",
        "\n",
        "\n",
        "\n",
        "\n",
        "####################test DATA #@#################\n",
        "\n",
        "\n",
        "\n",
        "#testData  =np.arange(4950000).reshape(22,150, 100, 3)\n",
        "grayTestData = np.arange(330000).reshape(22,150, 100,1)\n",
        "\n",
        "testTarget = np.arange(22).reshape(22,1)\n",
        "print(grayTrainData.shape)\n",
        "print(trainTarget[4])\n",
        "i=0\n",
        "\n",
        "for root, dirs, files in os.walk('/content/drive/MyDrive/Kasra/datasets/test'):\n",
        "    for name in files:\n",
        "      \n",
        "      # Open the image form working directory\n",
        "      print(root.rsplit('/', 1)[-1]+'----->>>'+name)\n",
        "      data = load_image(root+'/'+name)\n",
        "      data1 = load_image_as_gray(root+'/'+name)\n",
        "      #trainData[i]=data\n",
        "      grayTestData[i] = data1.reshape(150,100,1)\n",
        "      #trainTarget[i]=root.rsplit('/', 1)[-1]\n",
        "      \n",
        "      i+=1\n",
        "\n",
        "\n",
        "grayTrainData.shape\n",
        "#############################pre Proccessing ################\n",
        "trainTarget.shape\n",
        "\n",
        "grayTestData = grayTestData/255\n",
        "\n",
        "display_gray_image( grayTestData[0])\n",
        "\n",
        "# inde = 8\n",
        "# classnumber =  newModel.predict(grayTestData[inde].reshape(1,150,100,1))\n",
        "# display_gray_image(grayTestData[inde])\n",
        "\n",
        "# print('network Detection : '+ str(classnumber.argmax()))\n",
        "# print(classnumber)\n",
        "\n",
        "\n",
        "# yTest = keras.utils.all_utils.to_categorical(trainTarget, 11)    \n",
        "# ytrain[0]\n"
      ],
      "execution_count": 10,
      "outputs": [
        {
          "output_type": "display_data",
          "data": {
            "image/png": "[encoded data removed]",
            "text/plain": [
              "<Figure size 432x288 with 1 Axes>"
            ]
          },
          "metadata": {
            "needs_background": "light"
          }
        }
      ]
    },
    {
      "cell_type": "markdown",
      "metadata": {
        "id": "9QGAEhrIFCj6"
      },
      "source": [
        "##reading data and to arrey\n"
      ]
    },
    {
      "cell_type": "markdown",
      "metadata": {
        "id": "WUGQbVJ-FHdg"
      },
      "source": [
        "##prepoccessing\n"
      ]
    },
    {
      "cell_type": "code",
      "metadata": {
        "id": "_0N37SHMRpPf"
      },
      "source": [
        "x,y=ytrain.shape\n",
        "\n",
        "newModel = get_2d_conv(grayTrainData[0].shape,12)\n",
        "\n",
        "# grayTrainData[0]\n",
        "\n",
        "newModel.summary()\n",
        "#newModel.compile()\n",
        "\n",
        "epochs = 50\n",
        "# history = newModel.fit(grayTrainData, ytrain,\n",
        "#             batch_size=128,\n",
        "#             epochs=40,\n",
        "#             verbose=1,\n",
        "#             validation_split=0.3)\n",
        "\n",
        "\n",
        "\n",
        "newModel.save('/content/drive/MyDrive/Kasra/networks/kasraNetworkModel.h5')\n",
        "\n",
        "newModel.compile(loss=\"categorical_crossentropy\", optimizer=\"adam\", metrics=[\"accuracy\"])\n",
        "\n",
        "history  =newModel.fit(grayTrainData, ytrain, batch_size=20, epochs=epochs, validation_split=0.1)\n",
        "\n",
        "grayTrainData[0].shape\n",
        "inde=119\n",
        "classnumber =  newModel.predict(grayTrainData[inde].reshape(1,150,100,1))\n",
        "display_gray_image(grayTrainData[inde])\n",
        "print('real target:'+ str(ytrain[inde].argmax()))\n",
        "print('network Detection : '+ str(classnumber.argmax()))\n",
        "print(classnumber)\n",
        "\n",
        "history.history\n",
        "\n",
        "plt.plot(history.history['accuracy'])\n",
        "plt.plot(history.history['val_accuracy'])\n",
        "plt.title('model accuracy')\n",
        "plt.ylabel('accuracy')\n",
        "plt.xlabel('epoch')\n",
        "plt.legend(['train', 'val'], loc='upper left')\n",
        "plt.show()"
      ],
      "execution_count": 18,
      "outputs": []
    },
    {
      "cell_type": "code",
      "metadata": {
        "id": "BdDu4vDPFAuB"
      },
      "source": [
        ""
      ],
      "execution_count": null,
      "outputs": []
    },
    {
      "cell_type": "markdown",
      "metadata": {
        "id": "pda2j8b-Bw9M"
      },
      "source": [
        "#Face detection\n"
      ]
    },
    {
      "cell_type": "code",
      "metadata": {
        "id": "QMSiDnz-BbUR"
      },
      "source": [
        "# example of face detection with mtcnn\n",
        "from matplotlib import pyplot\n",
        "from PIL import Image\n",
        "from numpy import asarray\n",
        "from mtcnn.mtcnn import MTCNN\n",
        " \n",
        "# extract a single face from a given photograph\n",
        "def extract_face(filename, required_size=(224, 224)):\n",
        "\t# load image from file\n",
        "\tpixels = pyplot.imread(filename)\n",
        "\t# create the detector, using default weights\n",
        "\tdetector = MTCNN()\n",
        "\t# detect faces in the image\n",
        "\tresults = detector.detect_faces(pixels)\n",
        "\t# extract the bounding box from the first face\n",
        "\tx1, y1, width, height = results[0]['box']\n",
        "\tx2, y2 = x1 + width, y1 + height\n",
        "\t# extract the face\n",
        "\tface = pixels[y1:y2, x1:x2]\n",
        "\t# resize pixels to the model size\n",
        "\timage = Image.fromarray(face)\n",
        "\timage = image.resize(required_size)\n",
        "\tface_array = asarray(image)\n",
        "\treturn face_array\n",
        " \n",
        "# load the photo and extract the face\n",
        "pixels = extract_face('sharon_stone1.jpg')\n",
        "# plot the extracted face\n",
        "pyplot.imshow(pixels)\n",
        "# show the plot\n",
        "pyplot.show()"
      ],
      "execution_count": null,
      "outputs": []
    }
  ]
}